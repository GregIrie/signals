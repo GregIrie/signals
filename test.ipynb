{
 "metadata": {
  "language_info": {
   "codemirror_mode": {
    "name": "ipython",
    "version": 3
   },
   "file_extension": ".py",
   "mimetype": "text/x-python",
   "name": "python",
   "nbconvert_exporter": "python",
   "pygments_lexer": "ipython3",
   "version": "3.7.3-final"
  },
  "orig_nbformat": 2,
  "kernelspec": {
   "name": "python_defaultSpec_1600691315633",
   "display_name": "Python 3.7.3 64-bit ('pytorch_env': conda)"
  }
 },
 "nbformat": 4,
 "nbformat_minor": 2,
 "cells": [
  {
   "cell_type": "code",
   "execution_count": 6,
   "metadata": {
    "tags": []
   },
   "outputs": [],
   "source": [
    "from signalling import *\n",
    "import seaborn as sns \n",
    "import imageio\n",
    "from matplotlib import pyplot as plt\n",
    "from matplotlib import animation"
   ]
  },
  {
   "cell_type": "code",
   "execution_count": 7,
   "metadata": {
    "tags": []
   },
   "outputs": [
    {
     "output_type": "stream",
     "name": "stdout",
     "text": "Epoch 0, last 100 epochs reward: -0.01\n4 8 9 -1\nEpoch 100, last 100 epochs reward: -0.8\n1 2 9 -1\nEpoch 200, last 100 epochs reward: -0.9\n9 1 4 -1\nEpoch 300, last 100 epochs reward: -0.76\n9 1 7 -1\nEpoch 400, last 100 epochs reward: -0.68\n6 5 3 -1\nEpoch 500, last 100 epochs reward: -0.64\n4 9 1 -1\nEpoch 600, last 100 epochs reward: -0.5\n8 1 3 -1\nEpoch 700, last 100 epochs reward: -0.3\n4 4 4 1\nEpoch 800, last 100 epochs reward: -0.28\n7 0 5 -1\nEpoch 900, last 100 epochs reward: -0.04\n1 9 1 1\nEpoch 1000, last 100 epochs reward: -0.02\n4 4 4 1\nEpoch 1100, last 100 epochs reward: 0.06\n6 5 7 -1\nEpoch 1200, last 100 epochs reward: -0.04\n9 4 4 -1\nEpoch 1300, last 100 epochs reward: 0.02\n7 6 7 1\nEpoch 1400, last 100 epochs reward: 0.02\n4 4 4 1\nEpoch 1500, last 100 epochs reward: -0.04\n7 6 7 1\nEpoch 1600, last 100 epochs reward: 0.02\n6 3 1 -1\nEpoch 1700, last 100 epochs reward: 0.02\n2 2 8 -1\nEpoch 1800, last 100 epochs reward: 0.04\n4 4 4 1\nEpoch 1900, last 100 epochs reward: 0.22\n9 9 1 -1\nEpoch 2000, last 100 epochs reward: 0.38\n2 8 2 1\nEpoch 2100, last 100 epochs reward: 0.56\n0 0 0 1\nEpoch 2200, last 100 epochs reward: 0.62\n3 1 3 1\nEpoch 2300, last 100 epochs reward: 0.6\n8 7 8 1\nEpoch 2400, last 100 epochs reward: 0.56\n1 9 1 1\nEpoch 2500, last 100 epochs reward: 0.48\n8 7 8 1\nEpoch 2600, last 100 epochs reward: 0.72\n2 8 2 1\nEpoch 2700, last 100 epochs reward: 0.68\n8 7 8 1\nEpoch 2800, last 100 epochs reward: 0.84\n6 3 6 1\nEpoch 2900, last 100 epochs reward: 0.74\n6 3 6 1\nObservation to message mapping:\n[0 9 8 1 4 1 3 6 7 2]\nMessage to action mapping:\n[0 3 9 6 4 9 7 8 2 1]\n"
    },
    {
     "output_type": "display_data",
     "data": {
      "text/plain": "<Figure size 432x288 with 0 Axes>"
     },
     "metadata": {}
    }
   ],
   "source": [
    "sender, receiver = Sender(10, 10), Receiver(10, 10)\n",
    "world = World(10)\n",
    "past_rewards = 0\n",
    "matrices = []\n",
    "for epoch in range(3000):\n",
    "    world_state = world.emit_state()\n",
    "    message = sender.send_message(world_state)\n",
    "    action = receiver.act(message)\n",
    "    reward = world.evaluate_action(action)\n",
    "    receiver.learn_from_feedback(reward)\n",
    "    sender.learn_from_feedback(reward)\n",
    "    past_rewards += reward\n",
    "    if epoch % 25 == 0:\n",
    "        plt.tight_layout(pad=0)\n",
    "        plot = sns.heatmap(\n",
    "            np.exp(receiver.action_weights)/np.exp(receiver.action_weights).sum(axis=0), \n",
    "            square=True, cbar=False, annot=True, fmt='.1f'\n",
    "        ).get_figure()\n",
    "        plt.xlabel('messages')\n",
    "        plt.ylabel('actions')\n",
    "        plt.title(f'Receiver\\'s weights, rollout {epoch}')\n",
    "        plt.savefig(f\"receiver_{epoch}.png\")\n",
    "        plt.clf()\n",
    "        \n",
    "        plot = sns.heatmap(\n",
    "            np.exp(sender.message_weights)/np.exp(sender.message_weights).sum(axis=0), \n",
    "            square=True, cbar=False,annot=True, fmt='.1f'\n",
    "        ).get_figure()\n",
    "        plt.xlabel('world states')\n",
    "        plt.ylabel('messages')\n",
    "        plt.title(f'Sender\\'s weights, rollout {epoch}')\n",
    "        plt.savefig(f\"sender_{epoch}.png\")\n",
    "        plt.clf()\n",
    "           \n",
    "    if epoch % 100 == 0:\n",
    "        print(f'Epoch {epoch}, last 100 epochs reward: {past_rewards/100}')\n",
    "        print(world_state, message, action, reward)\n",
    "        past_rewards = 0\n",
    "\n",
    "print(\"Observation to message mapping:\")\n",
    "print(sender.message_weights.argmax(1))\n",
    "print(\"Message to action mapping:\")\n",
    "print(receiver.action_weights.argmax(1))"
   ]
  },
  {
   "cell_type": "code",
   "execution_count": 8,
   "metadata": {},
   "outputs": [],
   "source": [
    "def make_gif(filename_base):\n",
    "    images = []\n",
    "    for filename in [f'{filename_base}_{i}.png' for i in range(3000) if i % 25 == 0]:\n",
    "        images.append(imageio.imread(filename))\n",
    "    imageio.mimsave(f'{filename_base}.gif', images)\n",
    "    \n",
    "make_gif('sender')\n",
    "make_gif('receiver')"
   ]
  },
  {
   "cell_type": "code",
   "execution_count": null,
   "metadata": {},
   "outputs": [],
   "source": []
  }
 ]
}